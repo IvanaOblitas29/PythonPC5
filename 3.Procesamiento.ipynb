{
 "cells": [
  {
   "cell_type": "markdown",
   "metadata": {},
   "source": [
    "Empleando los datos del archivo './src/crypto_currency'.\n",
    "\n",
    "- Cargue los datos en una base de datos apropiada.\n",
    "- Lea mediante pandas las bases cargadas\n",
    "- Emplee un metodo de concatenación para unificar la información.(debe considerar que se añadirá una columna adicional que especifique el tipo de moneda)\n",
    "- Genere un agrupamiento de información a manera de obtener un resumen de los datos.\n",
    "- Almacene dichos datos en un reporte excel.\n",
    "- Apoyandose del ejercicio 2. Cree una imagen que sea guarda en el archivo excel\n",
    "- Emplee un método de envio de correos\n",
    "\n"
   ]
  },
  {
   "cell_type": "code",
   "execution_count": 1,
   "metadata": {
    "id": "erqRtSoPlN1B"
   },
   "outputs": [],
   "source": [
    "import matplotlib.pyplot as plt\n",
    "%matplotlib inline\n",
    "from PIL import Image\n",
    "\n",
    "import pandas as pd\n",
    "import xlsxwriter\n",
    "import sqlite3\n",
    "import os"
   ]
  },
  {
   "cell_type": "code",
   "execution_count": 9,
   "metadata": {},
   "outputs": [],
   "source": [
    "DB = 'cripto_currency.db'\n",
    "TABLE_NAME_1 = 'BTC'\n",
    "TABLE_NAME_2 = 'DOGE'\n",
    "TABLE_NAME_3 = 'USDT'"
   ]
  },
  {
   "cell_type": "code",
   "execution_count": 10,
   "metadata": {},
   "outputs": [],
   "source": [
    "def almacenar_pandas_to_sql(df: pd.DataFrame, database_name:str, table_name:str)->None:\n",
    "  \"\"\"Procesamiento datos candidatos para almacenarlos sobre db \"\"\"\n",
    "\n",
    "  # rename columns\n",
    "  column_rename = {c: c.replace(' ', '') for c in df.columns}\n",
    "  df.rename(column_rename,axis='columns', inplace=True)\n",
    "\n",
    "  # almaceno sobre db\n",
    "  conn = sqlite3.connect(database_name)\n",
    "  df.to_sql(table_name, conn, if_exists='replace', index=False)\n",
    "  conn.close()\n",
    "\n",
    "  #\n",
    "  sql_table_schema = f'{database_name}.{table_name}'\n",
    "  cantidad_registros = df.shape[0]\n",
    "  print(f'Se almacenaron {cantidad_registros} sobre tabla sql {sql_table_schema}')"
   ]
  },
  {
   "cell_type": "code",
   "execution_count": 11,
   "metadata": {},
   "outputs": [],
   "source": [
    "path = './src/cripto_currency.xlsx'\n",
    "df1 = pd.read_excel(path, sheet_name=\"BTC-USD\")\n",
    "df2 = pd.read_excel(path, sheet_name=\"DOGE-USD\")\n",
    "df3 = pd.read_excel(path, sheet_name=\"USDT-USD\")"
   ]
  },
  {
   "cell_type": "code",
   "execution_count": 12,
   "metadata": {},
   "outputs": [
    {
     "name": "stdout",
     "output_type": "stream",
     "text": [
      "Se almacenaron 366 sobre tabla sql cripto_currency.db.BTC\n",
      "Se almacenaron 366 sobre tabla sql cripto_currency.db.DOGE\n",
      "Se almacenaron 366 sobre tabla sql cripto_currency.db.USDT\n"
     ]
    }
   ],
   "source": [
    "almacenar_pandas_to_sql(df1, DB , TABLE_NAME_1)\n",
    "almacenar_pandas_to_sql(df2, DB , TABLE_NAME_2)\n",
    "almacenar_pandas_to_sql(df2, DB , TABLE_NAME_3)"
   ]
  },
  {
   "cell_type": "code",
   "execution_count": 13,
   "metadata": {},
   "outputs": [],
   "source": [
    "with sqlite3.connect(DB) as conn:\n",
    "  df1 = pd.read_sql_query(f'select * from {TABLE_NAME_1}', conn)"
   ]
  },
  {
   "cell_type": "code",
   "execution_count": 14,
   "metadata": {},
   "outputs": [],
   "source": [
    "with sqlite3.connect(DB) as conn:\n",
    "  df2 = pd.read_sql_query(f'select * from {TABLE_NAME_2}', conn)"
   ]
  },
  {
   "cell_type": "code",
   "execution_count": 15,
   "metadata": {},
   "outputs": [],
   "source": [
    "with sqlite3.connect(DB) as conn:\n",
    "  df3 = pd.read_sql_query(f'select * from {TABLE_NAME_3}', conn)"
   ]
  },
  {
   "cell_type": "code",
   "execution_count": 26,
   "metadata": {},
   "outputs": [
    {
     "data": {
      "text/html": [
       "<div>\n",
       "<style scoped>\n",
       "    .dataframe tbody tr th:only-of-type {\n",
       "        vertical-align: middle;\n",
       "    }\n",
       "\n",
       "    .dataframe tbody tr th {\n",
       "        vertical-align: top;\n",
       "    }\n",
       "\n",
       "    .dataframe thead th {\n",
       "        text-align: right;\n",
       "    }\n",
       "</style>\n",
       "<table border=\"1\" class=\"dataframe\">\n",
       "  <thead>\n",
       "    <tr style=\"text-align: right;\">\n",
       "      <th></th>\n",
       "      <th>Date</th>\n",
       "      <th>Open</th>\n",
       "      <th>High</th>\n",
       "      <th>Low</th>\n",
       "      <th>Close</th>\n",
       "      <th>AdjClose</th>\n",
       "      <th>Volume</th>\n",
       "      <th>Moneda</th>\n",
       "    </tr>\n",
       "  </thead>\n",
       "  <tbody>\n",
       "    <tr>\n",
       "      <th>0</th>\n",
       "      <td>2022-10-19 00:00:00</td>\n",
       "      <td>19335.027344</td>\n",
       "      <td>19348.416016</td>\n",
       "      <td>19127.687500</td>\n",
       "      <td>19139.535156</td>\n",
       "      <td>19139.535156</td>\n",
       "      <td>22425387184</td>\n",
       "      <td>btc-usd</td>\n",
       "    </tr>\n",
       "    <tr>\n",
       "      <th>1</th>\n",
       "      <td>2022-10-20 00:00:00</td>\n",
       "      <td>19138.085938</td>\n",
       "      <td>19315.199219</td>\n",
       "      <td>18971.458984</td>\n",
       "      <td>19053.740234</td>\n",
       "      <td>19053.740234</td>\n",
       "      <td>24493974420</td>\n",
       "      <td>btc-usd</td>\n",
       "    </tr>\n",
       "    <tr>\n",
       "      <th>2</th>\n",
       "      <td>2022-10-21 00:00:00</td>\n",
       "      <td>19053.203125</td>\n",
       "      <td>19237.384766</td>\n",
       "      <td>18770.970703</td>\n",
       "      <td>19172.468750</td>\n",
       "      <td>19172.468750</td>\n",
       "      <td>32459287866</td>\n",
       "      <td>btc-usd</td>\n",
       "    </tr>\n",
       "    <tr>\n",
       "      <th>3</th>\n",
       "      <td>2022-10-22 00:00:00</td>\n",
       "      <td>19172.380859</td>\n",
       "      <td>19248.068359</td>\n",
       "      <td>19132.244141</td>\n",
       "      <td>19208.189453</td>\n",
       "      <td>19208.189453</td>\n",
       "      <td>16104440957</td>\n",
       "      <td>btc-usd</td>\n",
       "    </tr>\n",
       "    <tr>\n",
       "      <th>4</th>\n",
       "      <td>2022-10-23 00:00:00</td>\n",
       "      <td>19207.734375</td>\n",
       "      <td>19646.652344</td>\n",
       "      <td>19124.197266</td>\n",
       "      <td>19567.007813</td>\n",
       "      <td>19567.007813</td>\n",
       "      <td>22128794335</td>\n",
       "      <td>btc-usd</td>\n",
       "    </tr>\n",
       "    <tr>\n",
       "      <th>...</th>\n",
       "      <td>...</td>\n",
       "      <td>...</td>\n",
       "      <td>...</td>\n",
       "      <td>...</td>\n",
       "      <td>...</td>\n",
       "      <td>...</td>\n",
       "      <td>...</td>\n",
       "      <td>...</td>\n",
       "    </tr>\n",
       "    <tr>\n",
       "      <th>361</th>\n",
       "      <td>2023-10-15 00:00:00</td>\n",
       "      <td>26858.011719</td>\n",
       "      <td>27289.169922</td>\n",
       "      <td>26817.894531</td>\n",
       "      <td>27159.652344</td>\n",
       "      <td>27159.652344</td>\n",
       "      <td>7098201980</td>\n",
       "      <td>btc-usd</td>\n",
       "    </tr>\n",
       "    <tr>\n",
       "      <th>362</th>\n",
       "      <td>2023-10-16 00:00:00</td>\n",
       "      <td>27162.628906</td>\n",
       "      <td>29448.138672</td>\n",
       "      <td>27130.472656</td>\n",
       "      <td>28519.466797</td>\n",
       "      <td>28519.466797</td>\n",
       "      <td>27833876539</td>\n",
       "      <td>btc-usd</td>\n",
       "    </tr>\n",
       "    <tr>\n",
       "      <th>363</th>\n",
       "      <td>2023-10-17 00:00:00</td>\n",
       "      <td>28522.097656</td>\n",
       "      <td>28618.751953</td>\n",
       "      <td>28110.185547</td>\n",
       "      <td>28415.748047</td>\n",
       "      <td>28415.748047</td>\n",
       "      <td>14872527508</td>\n",
       "      <td>btc-usd</td>\n",
       "    </tr>\n",
       "    <tr>\n",
       "      <th>364</th>\n",
       "      <td>2023-10-18 00:00:00</td>\n",
       "      <td>28413.531250</td>\n",
       "      <td>28889.009766</td>\n",
       "      <td>28174.251953</td>\n",
       "      <td>28328.341797</td>\n",
       "      <td>28328.341797</td>\n",
       "      <td>12724128586</td>\n",
       "      <td>btc-usd</td>\n",
       "    </tr>\n",
       "    <tr>\n",
       "      <th>365</th>\n",
       "      <td>2023-10-19 00:00:00</td>\n",
       "      <td>28308.337891</td>\n",
       "      <td>28413.585938</td>\n",
       "      <td>28202.761719</td>\n",
       "      <td>28258.759766</td>\n",
       "      <td>28258.759766</td>\n",
       "      <td>13139652608</td>\n",
       "      <td>btc-usd</td>\n",
       "    </tr>\n",
       "  </tbody>\n",
       "</table>\n",
       "<p>366 rows × 8 columns</p>\n",
       "</div>"
      ],
      "text/plain": [
       "                    Date          Open          High           Low  \\\n",
       "0    2022-10-19 00:00:00  19335.027344  19348.416016  19127.687500   \n",
       "1    2022-10-20 00:00:00  19138.085938  19315.199219  18971.458984   \n",
       "2    2022-10-21 00:00:00  19053.203125  19237.384766  18770.970703   \n",
       "3    2022-10-22 00:00:00  19172.380859  19248.068359  19132.244141   \n",
       "4    2022-10-23 00:00:00  19207.734375  19646.652344  19124.197266   \n",
       "..                   ...           ...           ...           ...   \n",
       "361  2023-10-15 00:00:00  26858.011719  27289.169922  26817.894531   \n",
       "362  2023-10-16 00:00:00  27162.628906  29448.138672  27130.472656   \n",
       "363  2023-10-17 00:00:00  28522.097656  28618.751953  28110.185547   \n",
       "364  2023-10-18 00:00:00  28413.531250  28889.009766  28174.251953   \n",
       "365  2023-10-19 00:00:00  28308.337891  28413.585938  28202.761719   \n",
       "\n",
       "            Close      AdjClose       Volume   Moneda  \n",
       "0    19139.535156  19139.535156  22425387184  btc-usd  \n",
       "1    19053.740234  19053.740234  24493974420  btc-usd  \n",
       "2    19172.468750  19172.468750  32459287866  btc-usd  \n",
       "3    19208.189453  19208.189453  16104440957  btc-usd  \n",
       "4    19567.007813  19567.007813  22128794335  btc-usd  \n",
       "..            ...           ...          ...      ...  \n",
       "361  27159.652344  27159.652344   7098201980  btc-usd  \n",
       "362  28519.466797  28519.466797  27833876539  btc-usd  \n",
       "363  28415.748047  28415.748047  14872527508  btc-usd  \n",
       "364  28328.341797  28328.341797  12724128586  btc-usd  \n",
       "365  28258.759766  28258.759766  13139652608  btc-usd  \n",
       "\n",
       "[366 rows x 8 columns]"
      ]
     },
     "execution_count": 26,
     "metadata": {},
     "output_type": "execute_result"
    }
   ],
   "source": [
    "df1"
   ]
  },
  {
   "cell_type": "code",
   "execution_count": 37,
   "metadata": {},
   "outputs": [],
   "source": [
    "with sqlite3.connect(DB) as conn:\n",
    "    df1['Moneda'] = 'btc-usd'\n",
    "    df2['Moneda'] = 'doge-usd'\n",
    "    df3['Moneda'] = 'usdt-usd'\n",
    "\n",
    "    # Concatena los DataFrames\n",
    "    df = pd.concat([df1, df2, df3])"
   ]
  },
  {
   "cell_type": "code",
   "execution_count": 38,
   "metadata": {},
   "outputs": [],
   "source": [
    "with sqlite3.connect(DB) as conn:\n",
    "    df.to_sql('TABLA_UNIFICADA', conn, if_exists='replace', index=False)"
   ]
  },
  {
   "cell_type": "code",
   "execution_count": 39,
   "metadata": {},
   "outputs": [],
   "source": [
    "with sqlite3.connect(DB) as conn:\n",
    "    cur = conn.cursor()\n",
    "    # Write your SQL query\n",
    "    query = '''SELECT * FROM TABLA_UNIFICADA\n",
    "    WHERE Moneda == \"btc-usd\" '''\n",
    "\n",
    "    filterDf = pd.read_sql_query(query, conn)\n",
    "   "
   ]
  },
  {
   "cell_type": "code",
   "execution_count": 42,
   "metadata": {},
   "outputs": [],
   "source": [
    "filterDf['Date'] = pd.to_datetime(filterDf['Date'])"
   ]
  },
  {
   "cell_type": "code",
   "execution_count": 47,
   "metadata": {
    "scrolled": false
   },
   "outputs": [],
   "source": [
    "summary = filterDf.describe()\n",
    "summary.to_excel('./reportes/reporteBTC.xlsx')"
   ]
  },
  {
   "cell_type": "code",
   "execution_count": null,
   "metadata": {},
   "outputs": [],
   "source": []
  }
 ],
 "metadata": {
  "colab": {
   "provenance": []
  },
  "kernelspec": {
   "display_name": "Python 3 (ipykernel)",
   "language": "python",
   "name": "python3"
  },
  "language_info": {
   "codemirror_mode": {
    "name": "ipython",
    "version": 3
   },
   "file_extension": ".py",
   "mimetype": "text/x-python",
   "name": "python",
   "nbconvert_exporter": "python",
   "pygments_lexer": "ipython3",
   "version": "3.11.5"
  }
 },
 "nbformat": 4,
 "nbformat_minor": 1
}
